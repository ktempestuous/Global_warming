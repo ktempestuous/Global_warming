{
 "cells": [
  {
   "cell_type": "code",
   "execution_count": 1,
   "id": "97232ca1-4470-4187-b49e-25acfa74b197",
   "metadata": {},
   "outputs": [],
   "source": [
    "import pandas as pd\n",
    "import matplotlib.pyplot as plt\n",
    "import seaborn as sns"
   ]
  },
  {
   "cell_type": "code",
   "execution_count": 57,
   "id": "75705f3a-5f4d-475b-bb14-0962320b64c5",
   "metadata": {},
   "outputs": [],
   "source": [
    "# load in data to a dataframe\n",
    "# https://www.kaggle.com/datasets/ucsandiego/carbon-dioxide\n",
    "df = pd.read_csv(\"CO2 Observations.csv\")"
   ]
  },
  {
   "cell_type": "code",
   "execution_count": 23,
   "id": "e60b5767-f5ae-47b4-a040-73f96b997141",
   "metadata": {},
   "outputs": [],
   "source": [
    "# Data overview: \n",
    "# Columns 1-3: Provide the date in the following redundant formats: year, month and decimal date\n",
    "# Column 4: Monthly CO2 concentrations in parts per million (ppm) measured on the 08A calibration scale and collected at 24:00 hours on the fifteenth of each month.\n",
    "# Column 5: The fifth column provides the same data after a seasonal adjustment, which involves subtracting from the data a 4-harmonic fit with a linear gain factor to remove the seasonal cycle from carbon dioxide measurements\n",
    "# Column 6: The sixth column provides the data with noise removed, generated from a stiff cubic spline function plus 4-harmonic functions with linear gain\n",
    "# Column 7: The seventh column is the same data with the seasonal cycle removed.\n"
   ]
  },
  {
   "cell_type": "code",
   "execution_count": 59,
   "id": "725f5f90-f28a-4cfa-aa78-c69aaaff19f2",
   "metadata": {},
   "outputs": [
    {
     "data": {
      "text/html": [
       "<div>\n",
       "<style scoped>\n",
       "    .dataframe tbody tr th:only-of-type {\n",
       "        vertical-align: middle;\n",
       "    }\n",
       "\n",
       "    .dataframe tbody tr th {\n",
       "        vertical-align: top;\n",
       "    }\n",
       "\n",
       "    .dataframe thead th {\n",
       "        text-align: right;\n",
       "    }\n",
       "</style>\n",
       "<table border=\"1\" class=\"dataframe\">\n",
       "  <thead>\n",
       "    <tr style=\"text-align: right;\">\n",
       "      <th></th>\n",
       "      <th>Year</th>\n",
       "      <th>Month</th>\n",
       "      <th>Decimal Date</th>\n",
       "      <th>Carbon Dioxide (ppm)</th>\n",
       "      <th>Seasonally Adjusted CO2 (ppm)</th>\n",
       "      <th>Carbon Dioxide Fit (ppm)</th>\n",
       "      <th>Seasonally Adjusted CO2 Fit (ppm)</th>\n",
       "    </tr>\n",
       "  </thead>\n",
       "  <tbody>\n",
       "    <tr>\n",
       "      <th>0</th>\n",
       "      <td>1958</td>\n",
       "      <td>1</td>\n",
       "      <td>1958.0411</td>\n",
       "      <td>NaN</td>\n",
       "      <td>NaN</td>\n",
       "      <td>NaN</td>\n",
       "      <td>NaN</td>\n",
       "    </tr>\n",
       "    <tr>\n",
       "      <th>1</th>\n",
       "      <td>1958</td>\n",
       "      <td>2</td>\n",
       "      <td>1958.1260</td>\n",
       "      <td>NaN</td>\n",
       "      <td>NaN</td>\n",
       "      <td>NaN</td>\n",
       "      <td>NaN</td>\n",
       "    </tr>\n",
       "    <tr>\n",
       "      <th>2</th>\n",
       "      <td>1958</td>\n",
       "      <td>3</td>\n",
       "      <td>1958.2027</td>\n",
       "      <td>315.69</td>\n",
       "      <td>314.42</td>\n",
       "      <td>316.18</td>\n",
       "      <td>314.89</td>\n",
       "    </tr>\n",
       "    <tr>\n",
       "      <th>3</th>\n",
       "      <td>1958</td>\n",
       "      <td>4</td>\n",
       "      <td>1958.2877</td>\n",
       "      <td>317.45</td>\n",
       "      <td>315.15</td>\n",
       "      <td>317.30</td>\n",
       "      <td>314.98</td>\n",
       "    </tr>\n",
       "    <tr>\n",
       "      <th>4</th>\n",
       "      <td>1958</td>\n",
       "      <td>5</td>\n",
       "      <td>1958.3699</td>\n",
       "      <td>317.50</td>\n",
       "      <td>314.73</td>\n",
       "      <td>317.83</td>\n",
       "      <td>315.06</td>\n",
       "    </tr>\n",
       "  </tbody>\n",
       "</table>\n",
       "</div>"
      ],
      "text/plain": [
       "   Year  Month  Decimal Date  Carbon Dioxide (ppm)  \\\n",
       "0  1958      1     1958.0411                   NaN   \n",
       "1  1958      2     1958.1260                   NaN   \n",
       "2  1958      3     1958.2027                315.69   \n",
       "3  1958      4     1958.2877                317.45   \n",
       "4  1958      5     1958.3699                317.50   \n",
       "\n",
       "   Seasonally Adjusted CO2 (ppm)  Carbon Dioxide Fit (ppm)  \\\n",
       "0                            NaN                       NaN   \n",
       "1                            NaN                       NaN   \n",
       "2                         314.42                    316.18   \n",
       "3                         315.15                    317.30   \n",
       "4                         314.73                    317.83   \n",
       "\n",
       "   Seasonally Adjusted CO2 Fit (ppm)  \n",
       "0                                NaN  \n",
       "1                                NaN  \n",
       "2                             314.89  \n",
       "3                             314.98  \n",
       "4                             315.06  "
      ]
     },
     "execution_count": 59,
     "metadata": {},
     "output_type": "execute_result"
    }
   ],
   "source": [
    "# preview data \n",
    "df.head()"
   ]
  },
  {
   "cell_type": "code",
   "execution_count": 65,
   "id": "3b8776ec-eaa0-4a89-be18-cb282ac33fc1",
   "metadata": {},
   "outputs": [],
   "source": [
    "df[\"Date\"] = df[\"Decimal Date\"].apply(decimal_year_to_date)\n",
    "# Set date as the index\n",
    "df.set_index('Date', inplace=True)  \n"
   ]
  },
  {
   "cell_type": "code",
   "execution_count": 67,
   "id": "56afeab3-c6bb-40d2-800d-3a36acd7aab0",
   "metadata": {},
   "outputs": [
    {
     "data": {
      "text/html": [
       "<div>\n",
       "<style scoped>\n",
       "    .dataframe tbody tr th:only-of-type {\n",
       "        vertical-align: middle;\n",
       "    }\n",
       "\n",
       "    .dataframe tbody tr th {\n",
       "        vertical-align: top;\n",
       "    }\n",
       "\n",
       "    .dataframe thead th {\n",
       "        text-align: right;\n",
       "    }\n",
       "</style>\n",
       "<table border=\"1\" class=\"dataframe\">\n",
       "  <thead>\n",
       "    <tr style=\"text-align: right;\">\n",
       "      <th></th>\n",
       "      <th>Year</th>\n",
       "      <th>Month</th>\n",
       "      <th>Decimal Date</th>\n",
       "      <th>Carbon Dioxide (ppm)</th>\n",
       "      <th>Seasonally Adjusted CO2 (ppm)</th>\n",
       "      <th>Carbon Dioxide Fit (ppm)</th>\n",
       "      <th>Seasonally Adjusted CO2 Fit (ppm)</th>\n",
       "    </tr>\n",
       "    <tr>\n",
       "      <th>Date</th>\n",
       "      <th></th>\n",
       "      <th></th>\n",
       "      <th></th>\n",
       "      <th></th>\n",
       "      <th></th>\n",
       "      <th></th>\n",
       "      <th></th>\n",
       "    </tr>\n",
       "  </thead>\n",
       "  <tbody>\n",
       "    <tr>\n",
       "      <th>1958-01-16</th>\n",
       "      <td>1958</td>\n",
       "      <td>1</td>\n",
       "      <td>1958.0411</td>\n",
       "      <td>NaN</td>\n",
       "      <td>NaN</td>\n",
       "      <td>NaN</td>\n",
       "      <td>NaN</td>\n",
       "    </tr>\n",
       "    <tr>\n",
       "      <th>1958-02-16</th>\n",
       "      <td>1958</td>\n",
       "      <td>2</td>\n",
       "      <td>1958.1260</td>\n",
       "      <td>NaN</td>\n",
       "      <td>NaN</td>\n",
       "      <td>NaN</td>\n",
       "      <td>NaN</td>\n",
       "    </tr>\n",
       "    <tr>\n",
       "      <th>1958-03-16</th>\n",
       "      <td>1958</td>\n",
       "      <td>3</td>\n",
       "      <td>1958.2027</td>\n",
       "      <td>315.69</td>\n",
       "      <td>314.42</td>\n",
       "      <td>316.18</td>\n",
       "      <td>314.89</td>\n",
       "    </tr>\n",
       "    <tr>\n",
       "      <th>1958-04-16</th>\n",
       "      <td>1958</td>\n",
       "      <td>4</td>\n",
       "      <td>1958.2877</td>\n",
       "      <td>317.45</td>\n",
       "      <td>315.15</td>\n",
       "      <td>317.30</td>\n",
       "      <td>314.98</td>\n",
       "    </tr>\n",
       "    <tr>\n",
       "      <th>1958-05-16</th>\n",
       "      <td>1958</td>\n",
       "      <td>5</td>\n",
       "      <td>1958.3699</td>\n",
       "      <td>317.50</td>\n",
       "      <td>314.73</td>\n",
       "      <td>317.83</td>\n",
       "      <td>315.06</td>\n",
       "    </tr>\n",
       "  </tbody>\n",
       "</table>\n",
       "</div>"
      ],
      "text/plain": [
       "            Year  Month  Decimal Date  Carbon Dioxide (ppm)  \\\n",
       "Date                                                          \n",
       "1958-01-16  1958      1     1958.0411                   NaN   \n",
       "1958-02-16  1958      2     1958.1260                   NaN   \n",
       "1958-03-16  1958      3     1958.2027                315.69   \n",
       "1958-04-16  1958      4     1958.2877                317.45   \n",
       "1958-05-16  1958      5     1958.3699                317.50   \n",
       "\n",
       "            Seasonally Adjusted CO2 (ppm)  Carbon Dioxide Fit (ppm)  \\\n",
       "Date                                                                  \n",
       "1958-01-16                            NaN                       NaN   \n",
       "1958-02-16                            NaN                       NaN   \n",
       "1958-03-16                         314.42                    316.18   \n",
       "1958-04-16                         315.15                    317.30   \n",
       "1958-05-16                         314.73                    317.83   \n",
       "\n",
       "            Seasonally Adjusted CO2 Fit (ppm)  \n",
       "Date                                           \n",
       "1958-01-16                                NaN  \n",
       "1958-02-16                                NaN  \n",
       "1958-03-16                             314.89  \n",
       "1958-04-16                             314.98  \n",
       "1958-05-16                             315.06  "
      ]
     },
     "execution_count": 67,
     "metadata": {},
     "output_type": "execute_result"
    }
   ],
   "source": [
    "df.head()"
   ]
  },
  {
   "cell_type": "code",
   "execution_count": 7,
   "id": "13710533-95ea-4949-8809-daa66e11a451",
   "metadata": {},
   "outputs": [
    {
     "name": "stdout",
     "output_type": "stream",
     "text": [
      "<class 'pandas.core.frame.DataFrame'>\n",
      "RangeIndex: 720 entries, 0 to 719\n",
      "Data columns (total 7 columns):\n",
      "Year                                 720 non-null int64\n",
      "Month                                720 non-null int64\n",
      "Decimal Date                         720 non-null float64\n",
      "Carbon Dioxide (ppm)                 703 non-null float64\n",
      "Seasonally Adjusted CO2 (ppm)        703 non-null float64\n",
      "Carbon Dioxide Fit (ppm)             707 non-null float64\n",
      "Seasonally Adjusted CO2 Fit (ppm)    707 non-null float64\n",
      "dtypes: float64(5), int64(2)\n",
      "memory usage: 39.5 KB\n"
     ]
    }
   ],
   "source": [
    "# check column names and data types \n",
    "df.info()\n",
    "# no missing values "
   ]
  },
  {
   "cell_type": "code",
   "execution_count": 9,
   "id": "ea84c02f-eea0-415b-91b9-528a4053d43d",
   "metadata": {},
   "outputs": [
    {
     "data": {
      "text/plain": [
       "(1958, 2017)"
      ]
     },
     "execution_count": 9,
     "metadata": {},
     "output_type": "execute_result"
    }
   ],
   "source": [
    "# find the range of the dataset \n",
    "df.Year.min(), df.Year.max()"
   ]
  },
  {
   "cell_type": "code",
   "execution_count": 69,
   "id": "46425e5e-87a2-4983-afdb-50e9bcc8b03f",
   "metadata": {},
   "outputs": [
    {
     "data": {
      "image/png": "[encoded data removed]",
      "text/plain": [
       "<Figure size 864x360 with 1 Axes>"
      ]
     },
     "metadata": {
      "needs_background": "light"
     },
     "output_type": "display_data"
    }
   ],
   "source": [
    "# CO2 trend over time \n",
    "plt.figure(figsize=(12, 5))\n",
    "plt.plot(df.index[:], df['Seasonally Adjusted CO2 Fit (ppm)'][:], color='b', label='CO2 noise reduced seasonally adjusted')\n",
    "plt.xlabel(\"Year\")\n",
    "plt.ylabel(\"(ppm)\")\n",
    "plt.title(\"CO2 Concentrations Over Time\")\n",
    "plt.legend()\n",
    "plt.show()"
   ]
  },
  {
   "cell_type": "code",
   "execution_count": null,
   "id": "8618b736-a368-47da-98c2-a3ede1e8aac2",
   "metadata": {},
   "outputs": [],
   "source": []
  }
 ],
 "metadata": {
  "kernelspec": {
   "display_name": "Python [conda env:miniconda3]",
   "language": "python",
   "name": "conda-env-miniconda3-py"
  },
  "language_info": {
   "codemirror_mode": {
    "name": "ipython",
    "version": 3
   },
   "file_extension": ".py",
   "mimetype": "text/x-python",
   "name": "python",
   "nbconvert_exporter": "python",
   "pygments_lexer": "ipython3",
   "version": "3.7.1"
  }
 },
 "nbformat": 4,
 "nbformat_minor": 5
}
